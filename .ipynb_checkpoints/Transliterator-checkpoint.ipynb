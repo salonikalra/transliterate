{
 "cells": [
  {
   "cell_type": "code",
   "execution_count": 362,
   "metadata": {},
   "outputs": [
    {
     "name": "stdout",
     "output_type": "stream",
     "text": [
      "नमस्ते\n"
     ]
    }
   ],
   "source": [
    "#to translate\n",
    "\n",
    "from googletrans import Translator\n",
    "translator = Translator()\n",
    "a = translator.translate('hello', dest='hi')\n",
    "print(a.text)"
   ]
  },
  {
   "cell_type": "code",
   "execution_count": 377,
   "metadata": {},
   "outputs": [],
   "source": [
    "malayalam = 'ml-t-i0-und'\n",
    "hindi = 'hi-t-i0-und'\n",
    "telugu = 'te-t-i0-und'"
   ]
  },
  {
   "cell_type": "code",
   "execution_count": 378,
   "metadata": {
    "scrolled": true
   },
   "outputs": [
    {
     "name": "stdout",
     "output_type": "stream",
     "text": [
      " സലോമി കളര്\n",
      " सलोनी कालरा\n",
      " సలోని కల్రా\n"
     ]
    }
   ],
   "source": [
    "# to transliterate a word in hindi\n",
    "\n",
    "import http.client\n",
    "import json\n",
    "\n",
    "def request(input, itc):\n",
    "    conn = http.client.HTTPSConnection('inputtools.google.com')\n",
    "    conn.request('GET', '/request?text=' + input + '&itc=' + itc + '&num=1&cp=0&cs=1&ie=utf-8&oe=utf-8&app=test')\n",
    "    res = conn.getresponse()\n",
    "    return res\n",
    "\n",
    "def driver(input, itc):\n",
    "    output = ''\n",
    "    if ' ' in input:\n",
    "        input = input.split(' ')\n",
    "        for i in input:\n",
    "            res = request(input = i, itc = itc)\n",
    "            res = res.read()\n",
    "            if i==0:\n",
    "                output = str(res, encoding = 'utf-8')[14+4+len(i):-31]\n",
    "            else:\n",
    "                output = output + ' ' + str(res, encoding = 'utf-8')[14+4+len(i):-31]\n",
    "    else:\n",
    "        res = request(input = input, itc = itc)\n",
    "        res = res.read()\n",
    "        output = str(res, encoding = 'utf-8')[14+4+len(input):-31]\n",
    "    print(output)\n",
    "    \n",
    "driver('saloni kalra', malayalam)\n",
    "driver('saloni kalra', hindi)\n",
    "driver('saloni kalra', telugu)"
   ]
  }
 ],
 "metadata": {
  "kernelspec": {
   "display_name": "Python 3",
   "language": "python",
   "name": "python3"
  },
  "language_info": {
   "codemirror_mode": {
    "name": "ipython",
    "version": 3
   },
   "file_extension": ".py",
   "mimetype": "text/x-python",
   "name": "python",
   "nbconvert_exporter": "python",
   "pygments_lexer": "ipython3",
   "version": "3.6.4"
  }
 },
 "nbformat": 4,
 "nbformat_minor": 2
}
